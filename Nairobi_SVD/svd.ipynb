{
  "nbformat": 4,
  "nbformat_minor": 0,
  "metadata": {
    "colab": {
      "name": "svd.ipynb",
      "provenance": []
    },
    "kernelspec": {
      "name": "python3",
      "display_name": "Python 3"
    }
  },
  "cells": [
    {
      "cell_type": "code",
      "metadata": {
        "id": "GyachVRwBV5O",
        "colab_type": "code",
        "colab": {}
      },
      "source": [
        "import numpy as np\n",
        "from numpy.linalg import svd"
      ],
      "execution_count": 0,
      "outputs": []
    },
    {
      "cell_type": "code",
      "metadata": {
        "id": "h8o_Mw-DBlzZ",
        "colab_type": "code",
        "colab": {}
      },
      "source": [
        "A = np.array([[1,2,3], [2,3,4]])"
      ],
      "execution_count": 0,
      "outputs": []
    },
    {
      "cell_type": "code",
      "metadata": {
        "id": "L-clR3t5BtjS",
        "colab_type": "code",
        "colab": {}
      },
      "source": [
        "U,S,VT = svd(A)"
      ],
      "execution_count": 0,
      "outputs": []
    },
    {
      "cell_type": "code",
      "metadata": {
        "id": "lfL_n6kUBzCV",
        "colab_type": "code",
        "outputId": "2a323a7f-c3f3-4521-cff9-b471ba0d0dbd",
        "colab": {
          "base_uri": "https://localhost:8080/",
          "height": 52
        }
      },
      "source": [
        "print(U)"
      ],
      "execution_count": 0,
      "outputs": [
        {
          "output_type": "stream",
          "text": [
            "[[-0.56959484 -0.82192562]\n",
            " [-0.82192562  0.56959484]]\n"
          ],
          "name": "stdout"
        }
      ]
    },
    {
      "cell_type": "code",
      "metadata": {
        "id": "O5Zra8xeB2D6",
        "colab_type": "code",
        "outputId": "950330a9-be8c-40aa-9fd1-23b3635789ce",
        "colab": {
          "base_uri": "https://localhost:8080/",
          "height": 69
        }
      },
      "source": [
        "print(VT)"
      ],
      "execution_count": 0,
      "outputs": [
        {
          "output_type": "stream",
          "text": [
            "[[-0.33809817 -0.55064932 -0.76320047]\n",
            " [ 0.84795222  0.17354729 -0.50085764]\n",
            " [ 0.40824829 -0.81649658  0.40824829]]\n"
          ],
          "name": "stdout"
        }
      ]
    },
    {
      "cell_type": "code",
      "metadata": {
        "id": "IJXJoFigCF-7",
        "colab_type": "code",
        "colab": {}
      },
      "source": [
        ""
      ],
      "execution_count": 0,
      "outputs": []
    }
  ]
}